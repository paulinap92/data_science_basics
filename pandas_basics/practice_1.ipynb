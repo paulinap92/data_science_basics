{
 "cells": [
  {
   "metadata": {},
   "cell_type": "markdown",
   "source": [
    "#### Task 1\n",
    "\n",
    "    Sales DataFrame (df_sales):\n",
    "    Columns: shop, product, price, quantity, date\n",
    "        a. Calculate the total revenue for each shop.\n",
    "        b. Find the best month for each shop in terms of sales.\n",
    "        c. Identify the product with the highest average price in each shop."
   ],
   "id": "705967c2bdb07dd"
  },
  {
   "metadata": {
    "ExecuteTime": {
     "end_time": "2025-02-05T17:14:31.927058Z",
     "start_time": "2025-02-05T17:14:31.901649Z"
    }
   },
   "cell_type": "code",
   "source": [
    "import pandas as pd\n",
    "\n",
    "data = {\n",
    "    'shop': [\n",
    "        'shop1', 'shop1', 'shop2', 'shop2', 'shop1', 'shop2',\n",
    "        'shop3', 'shop3', 'shop1', 'shop2', 'shop3', 'shop1'\n",
    "    ],\n",
    "    'product': [\n",
    "        'apple', 'banana', 'apple', 'banana', 'orange', 'orange',\n",
    "        'grape', 'melon', 'grape', 'melon', 'apple', 'banana'\n",
    "    ],\n",
    "    'price': [\n",
    "        10, 15, 10, 15, 20, 25,\n",
    "        12, 30, 11, 28, 14, 16\n",
    "    ],\n",
    "    'quantity': [\n",
    "        5, 3, 6, 2, 4, 1,\n",
    "        7, 3, 8, 4, 5, 6\n",
    "    ],\n",
    "    'date': pd.to_datetime([\n",
    "        '2023-01-01', '2023-01-15', '2023-02-01', '2023-02-15',\n",
    "        '2023-03-01', '2023-03-15', '2023-04-01', '2023-04-15',\n",
    "        '2023-05-01', '2023-05-15', '2023-06-01', '2023-06-15'\n",
    "    ])\n",
    "}\n",
    "\n",
    "df = pd.DataFrame(data)\n",
    "print(df)"
   ],
   "id": "54b9842cc7e5a349",
   "outputs": [
    {
     "name": "stdout",
     "output_type": "stream",
     "text": [
      "     shop product  price  quantity       date\n",
      "0   shop1   apple     10         5 2023-01-01\n",
      "1   shop1  banana     15         3 2023-01-15\n",
      "2   shop2   apple     10         6 2023-02-01\n",
      "3   shop2  banana     15         2 2023-02-15\n",
      "4   shop1  orange     20         4 2023-03-01\n",
      "5   shop2  orange     25         1 2023-03-15\n",
      "6   shop3   grape     12         7 2023-04-01\n",
      "7   shop3   melon     30         3 2023-04-15\n",
      "8   shop1   grape     11         8 2023-05-01\n",
      "9   shop2   melon     28         4 2023-05-15\n",
      "10  shop3   apple     14         5 2023-06-01\n",
      "11  shop1  banana     16         6 2023-06-15\n"
     ]
    }
   ],
   "execution_count": 26
  },
  {
   "metadata": {
    "ExecuteTime": {
     "end_time": "2025-02-05T17:14:31.989304Z",
     "start_time": "2025-02-05T17:14:31.973510Z"
    }
   },
   "cell_type": "code",
   "source": [
    "# Calculate the total revenue for each shop.\n",
    "df['revenue'] = df['price'] * df['quantity']\n",
    "\n",
    "total_revenue = df.groupby(['shop'])['revenue'].sum()\n",
    "\n",
    "print(total_revenue)"
   ],
   "id": "5d83bbe676301ec6",
   "outputs": [
    {
     "name": "stdout",
     "output_type": "stream",
     "text": [
      "shop\n",
      "shop1    359\n",
      "shop2    227\n",
      "shop3    244\n",
      "Name: revenue, dtype: int64\n"
     ]
    }
   ],
   "execution_count": 27
  },
  {
   "metadata": {
    "ExecuteTime": {
     "end_time": "2025-02-05T17:14:32.044326Z",
     "start_time": "2025-02-05T17:14:32.018596Z"
    }
   },
   "cell_type": "code",
   "source": [
    "# Find the best month for each shop in terms of sales.\n",
    "df['month'] = df['date'].dt.to_period('M')\n",
    "\n",
    "total_revenue_by_month = df.groupby(['shop','month'])['revenue'].sum()\n",
    "\n",
    "print(total_revenue_by_month.groupby('shop').idxmax())"
   ],
   "id": "ad935966f631ef5f",
   "outputs": [
    {
     "name": "stdout",
     "output_type": "stream",
     "text": [
      "shop\n",
      "shop1    (shop1, 2023-06)\n",
      "shop2    (shop2, 2023-05)\n",
      "shop3    (shop3, 2023-04)\n",
      "Name: revenue, dtype: object\n"
     ]
    }
   ],
   "execution_count": 28
  },
  {
   "metadata": {
    "ExecuteTime": {
     "end_time": "2025-02-05T17:14:32.084469Z",
     "start_time": "2025-02-05T17:14:32.071383Z"
    }
   },
   "cell_type": "code",
   "source": [
    "# Identify the product with the highest average price in each shop.\n",
    "avg_price = df.groupby(['shop', 'product'])['price'].mean()\n",
    "highest_avg_price = avg_price.groupby('shop').idxmax()\n",
    "\n",
    "print(highest_avg_price)"
   ],
   "id": "706fdda0f624ccd2",
   "outputs": [
    {
     "name": "stdout",
     "output_type": "stream",
     "text": [
      "shop\n",
      "shop1    (shop1, orange)\n",
      "shop2     (shop2, melon)\n",
      "shop3     (shop3, melon)\n",
      "Name: price, dtype: object\n"
     ]
    }
   ],
   "execution_count": 29
  },
  {
   "metadata": {
    "ExecuteTime": {
     "end_time": "2025-02-05T17:14:32.107495Z",
     "start_time": "2025-02-05T17:14:32.103214Z"
    }
   },
   "cell_type": "code",
   "source": "",
   "id": "628d7a92afe7d406",
   "outputs": [],
   "execution_count": null
  }
 ],
 "metadata": {
  "kernelspec": {
   "display_name": "Python 3",
   "language": "python",
   "name": "python3"
  },
  "language_info": {
   "codemirror_mode": {
    "name": "ipython",
    "version": 2
   },
   "file_extension": ".py",
   "mimetype": "text/x-python",
   "name": "python",
   "nbconvert_exporter": "python",
   "pygments_lexer": "ipython2",
   "version": "2.7.6"
  }
 },
 "nbformat": 4,
 "nbformat_minor": 5
}
