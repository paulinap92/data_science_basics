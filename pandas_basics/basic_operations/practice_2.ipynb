{
 "cells": [
  {
   "metadata": {},
   "cell_type": "markdown",
   "source": [
    "#### Task 1\n",
    "\n",
    "    Employees DataFrame (employees):\n",
    "    Columns: name, department, salary, hire_date\n",
    "    a. Calculate the average salary in each department.\n",
    "    b. Find the employee with the longest tenure in each department.\n",
    "    c. Determine the average tenure of employees in each department.\n",
    "\n"
   ],
   "id": "30a46b7336691dba"
  },
  {
   "metadata": {
    "ExecuteTime": {
     "end_time": "2025-02-05T06:36:37.393984Z",
     "start_time": "2025-02-05T06:36:37.380314Z"
    }
   },
   "cell_type": "code",
   "source": [
    "import pandas as pd\n",
    "\n",
    "#  Employees DataFrame\n",
    "data_employees = {\n",
    "    'name': ['Alice', 'Bob', 'Charlie', 'David', 'Eva'],\n",
    "    'department': ['HR', 'Engineering', 'HR', 'Engineering', 'Sales'],\n",
    "    'salary': [50000, 60000, 45000, 70000, 55000],\n",
    "    'hire_date': pd.to_datetime(['2015-06-01', '2018-07-15', '2016-03-20', '2017-12-01', '2019-11-10'])\n",
    "}\n",
    "employees = pd.DataFrame(data_employees)\n",
    "\n",
    "# Calculate the average salary in each department.\n",
    "avg_salary = employees.groupby('department')['salary'].mean()\n",
    "print(avg_salary)\n",
    "\n",
    "# Find the employee with the longest tenure in each department.\n",
    "longest_tenure = employees.groupby('department')['hire_date'].idxmin()\n",
    "print(employees.loc[longest_tenure]['name'])\n",
    "\n",
    "#Calculate the average tenure of employees in each department\n",
    "current_date = pd.Timestamp.now()\n",
    "employees['tenure_years'] = (current_date - employees['hire_date']).dt.days/365\n",
    "print(employees)\n",
    "avg_tenure = employees.groupby('department')['tenure_years'].mean()\n",
    "print(avg_tenure)\n"
   ],
   "id": "8365e757a2425a99",
   "outputs": [
    {
     "name": "stdout",
     "output_type": "stream",
     "text": [
      "department\n",
      "Engineering    65000.0\n",
      "HR             47500.0\n",
      "Sales          55000.0\n",
      "Name: salary, dtype: float64\n",
      "3    David\n",
      "0    Alice\n",
      "4      Eva\n",
      "Name: name, dtype: object\n",
      "      name   department  salary  hire_date  tenure_years\n",
      "0    Alice           HR   50000 2015-06-01      9.690411\n",
      "1      Bob  Engineering   60000 2018-07-15      6.567123\n",
      "2  Charlie           HR   45000 2016-03-20      8.887671\n",
      "3    David  Engineering   70000 2017-12-01      7.186301\n",
      "4      Eva        Sales   55000 2019-11-10      5.243836\n",
      "department\n",
      "Engineering    6.876712\n",
      "HR             9.289041\n",
      "Sales          5.243836\n",
      "Name: tenure_years, dtype: float64\n"
     ]
    }
   ],
   "execution_count": 20
  },
  {
   "metadata": {},
   "cell_type": "markdown",
   "source": [
    "#### Task 2\n",
    "    Weather DataFrame (weather):\n",
    "        Columns: city, date, temperature, humidity, wind_speed\n",
    "        a. Calculate the average temperature for each city.\n",
    "        b. Identify the day with the highest temperature in each city.\n",
    "        c. Calculate the average wind speed for the entire period.\n"
   ],
   "id": "a6bbc40bd67d3de9"
  },
  {
   "metadata": {
    "ExecuteTime": {
     "end_time": "2025-02-05T06:37:32.668224Z",
     "start_time": "2025-02-05T06:37:32.647233Z"
    }
   },
   "cell_type": "code",
   "source": [
    "# 3. Weather DataFrame\n",
    "data_weather = {\n",
    "    'city': ['CityA', 'CityA', 'CityB', 'CityB', 'CityC', 'CityC'],\n",
    "    'date': pd.to_datetime(['2023-01-01', '2023-01-02', '2023-01-01', '2023-01-02', '2023-01-01', '2023-01-02']),\n",
    "    'temperature': [15, 17, 10, 12, 20, 18],\n",
    "    'humidity': [30, 35, 40, 45, 50, 55],\n",
    "    'wind_speed': [5, 7, 6, 8, 4, 5]\n",
    "}\n",
    "weather = pd.DataFrame(data_weather)\n",
    "\n",
    "# a. Calculate average temperature for each city\n",
    "avg_temp = weather.groupby('city')['temperature'].mean()\n",
    "print(\"\\n3a. Average temperature per city:\\n\", avg_temp)\n",
    "\n",
    "# b. Find the day with the highest temperature in each city\n",
    "max_temp_day = weather.loc[weather.groupby('city')['temperature'].idxmax()]\n",
    "print(\"\\n3b. Day with the highest temperature per city:\\n\", max_temp_day)\n",
    "\n",
    "# c. Calculate average wind speed for the entire period\n",
    "avg_wind_speed = weather['wind_speed'].mean()\n",
    "print(\"\\n3c. Average wind speed for the entire period:\\n\", avg_wind_speed)\n"
   ],
   "id": "e4cffe677c43f60f",
   "outputs": [
    {
     "name": "stdout",
     "output_type": "stream",
     "text": [
      "\n",
      "3a. Average temperature per city:\n",
      " city\n",
      "CityA    16.0\n",
      "CityB    11.0\n",
      "CityC    19.0\n",
      "Name: temperature, dtype: float64\n",
      "\n",
      "3b. Day with the highest temperature per city:\n",
      "     city       date  temperature  humidity  wind_speed\n",
      "1  CityA 2023-01-02           17        35           7\n",
      "3  CityB 2023-01-02           12        45           8\n",
      "4  CityC 2023-01-01           20        50           4\n",
      "\n",
      "3c. Average wind speed for the entire period:\n",
      " 5.833333333333333\n"
     ]
    }
   ],
   "execution_count": 21
  }
 ],
 "metadata": {
  "kernelspec": {
   "display_name": "Python 3",
   "language": "python",
   "name": "python3"
  },
  "language_info": {
   "codemirror_mode": {
    "name": "ipython",
    "version": 2
   },
   "file_extension": ".py",
   "mimetype": "text/x-python",
   "name": "python",
   "nbconvert_exporter": "python",
   "pygments_lexer": "ipython2",
   "version": "2.7.6"
  }
 },
 "nbformat": 4,
 "nbformat_minor": 5
}
