{
 "cells": [
  {
   "metadata": {},
   "cell_type": "markdown",
   "source": [
    "#### Task 1\n",
    "Student Performance Ranking: You have a DataFrame with student scores in different subjects. Use the rank function to assign a rank to each student based on their scores in each subject.\n",
    "\n",
    "data = {\n",
    "    'Student': ['Jan', 'Anna', 'Piotr', 'Maria', 'Tomasz'],\n",
    "    'Math': [88, 92, 79, 85, 90],\n",
    "    'Physics': [90, 89, 92, 85, 88],\n",
    "    'Chemistry': [85, 90, 86, 87, 91]\n",
    "}"
   ],
   "id": "dcc6fa2acbadafe4"
  },
  {
   "metadata": {
    "ExecuteTime": {
     "end_time": "2025-02-05T08:00:03.444354Z",
     "start_time": "2025-02-05T08:00:02.524621Z"
    }
   },
   "cell_type": "code",
   "source": [
    "import pandas as pd\n",
    "\n",
    "# Data for student performance\n",
    "data = {\n",
    "    'Student': ['Jan', 'Anna', 'Piotr', 'Maria', 'Tomasz'],\n",
    "    'Math': [88, 92, 79, 85, 90],\n",
    "    'Physics': [90, 89, 92, 85, 88],\n",
    "    'Chemistry': [85, 90, 86, 87, 91]\n",
    "}\n",
    "\n",
    "# Create DataFrame\n",
    "df = pd.DataFrame(data)\n",
    "\n",
    "# Assign ranks based on each subject\n",
    "df['Math_Rank'] = df['Math'].rank(ascending=False)\n",
    "df['Physics_Rank'] = df['Physics'].rank(ascending=False)\n",
    "df['Chemistry_Rank'] = df['Chemistry'].rank(ascending=False)\n",
    "\n",
    "print(\"Student Ranks Based on Scores in Subjects:\")\n",
    "print(df[['Student', 'Math_Rank', 'Physics_Rank', 'Chemistry_Rank']])\n"
   ],
   "id": "dbce94298d9d16cd",
   "outputs": [
    {
     "name": "stdout",
     "output_type": "stream",
     "text": [
      "Student Ranks Based on Scores in Subjects:\n",
      "  Student  Math_Rank  Physics_Rank  Chemistry_Rank\n",
      "0     Jan        3.0           2.0             5.0\n",
      "1    Anna        1.0           3.0             2.0\n",
      "2   Piotr        5.0           1.0             4.0\n",
      "3   Maria        4.0           5.0             3.0\n",
      "4  Tomasz        2.0           4.0             1.0\n"
     ]
    }
   ],
   "execution_count": 1
  },
  {
   "metadata": {},
   "cell_type": "markdown",
   "source": [
    "#### Task 2\n",
    "Sales Ranking for Sellers: You have a DataFrame with sales results for different sellers in different months. Assign a rank for sales to each seller in each month and calculate the average rank for each seller.\n",
    "\n",
    "data = {\n",
    "    'Seller': ['A', 'B', 'A', 'B', 'A', 'B'],\n",
    "    'Month': ['January', 'January', 'February', 'February', 'March', 'March'],\n",
    "    'Sales': [200, 150, 300, 250, 400, 350]\n",
    "}"
   ],
   "id": "3ce24caf603c36a4"
  },
  {
   "metadata": {
    "ExecuteTime": {
     "end_time": "2025-02-05T08:00:03.882230Z",
     "start_time": "2025-02-05T08:00:03.870870Z"
    }
   },
   "cell_type": "code",
   "source": [
    "# Data for sales results\n",
    "data = {\n",
    "    'Seller': ['A', 'B', 'A', 'B', 'A', 'B'],\n",
    "    'Month': ['January', 'January', 'February', 'February', 'March', 'March'],\n",
    "    'Sales': [200, 150, 300, 250, 400, 350]\n",
    "}\n",
    "\n",
    "# Create DataFrame\n",
    "df_sales = pd.DataFrame(data)\n",
    "\n",
    "# Assign ranks to sellers based on sales\n",
    "df_sales['Sales_Rank'] = df_sales.groupby('Month')['Sales'].rank(ascending=False)\n",
    "\n",
    "# Calculate average rank for each seller\n",
    "average_ranks = df_sales.groupby('Seller')['Sales_Rank'].mean()\n",
    "\n",
    "print(\"\\nSales Ranking for Sellers:\")\n",
    "print(df_sales)\n",
    "print(\"\\nAverage Rank for Each Seller:\")\n",
    "print(average_ranks)\n"
   ],
   "id": "58dfab8fa4b1d76e",
   "outputs": [
    {
     "name": "stdout",
     "output_type": "stream",
     "text": [
      "\n",
      "Sales Ranking for Sellers:\n",
      "  Seller     Month  Sales  Sales_Rank\n",
      "0      A   January    200         1.0\n",
      "1      B   January    150         2.0\n",
      "2      A  February    300         1.0\n",
      "3      B  February    250         2.0\n",
      "4      A     March    400         1.0\n",
      "5      B     March    350         2.0\n",
      "\n",
      "Average Rank for Each Seller:\n",
      "Seller\n",
      "A    1.0\n",
      "B    2.0\n",
      "Name: Sales_Rank, dtype: float64\n"
     ]
    }
   ],
   "execution_count": 2
  },
  {
   "metadata": {},
   "cell_type": "markdown",
   "source": [
    "#### Task 3\n",
    "Online Store Sales Analysis: You have sales data for an online store. Your task is to rank products based on their sales in different months and extract various subsets of data using advanced indexing.\n",
    "\n",
    "data = {\n",
    "    'Product': ['Product A', 'Product B', 'Product C', 'Product A', 'Product B', 'Product C', 'Product A', 'Product B', 'Product C'],\n",
    "    'Month': ['January', 'January', 'January', 'February', 'February', 'February', 'March', 'March', 'March'],\n",
    "    'Sales': [1200, 850, 950, 1100, 920, 970, 1300, 900, 990],\n",
    "    'Category': ['Electronics', 'Home', 'Health', 'Electronics', 'Home', 'Health', 'Electronics', 'Home', 'Health']\n",
    "}\n",
    "\n",
    "    a. Assign ranks to products based on sales in each month.\n",
    "    b. Calculate the average sales and average rank for each product across all months.\n",
    "    c. Perform a seasonality analysis of sales for different product categories. Determine the average sales for each category in each month."
   ],
   "id": "9744dd3b06b17e08"
  },
  {
   "metadata": {
    "ExecuteTime": {
     "end_time": "2025-02-05T08:00:03.920349Z",
     "start_time": "2025-02-05T08:00:03.897105Z"
    }
   },
   "cell_type": "code",
   "source": [
    "# Data for online store sales\n",
    "data = {\n",
    "    'Product': ['Product A', 'Product B', 'Product C', 'Product A', 'Product B', 'Product C', 'Product A', 'Product B', 'Product C'],\n",
    "    'Month': ['January', 'January', 'January', 'February', 'February', 'February', 'March', 'March', 'March'],\n",
    "    'Sales': [1200, 850, 950, 1100, 920, 970, 1300, 900, 990],\n",
    "    'Category': ['Electronics', 'Home', 'Health', 'Electronics', 'Home', 'Health', 'Electronics', 'Home', 'Health']\n",
    "}\n",
    "\n",
    "# Create DataFrame\n",
    "df_store = pd.DataFrame(data)\n",
    "\n",
    "# a. Assign ranks based on sales in each month\n",
    "df_store['Sales_Rank'] = df_store.groupby('Month')['Sales'].rank(ascending=False)\n",
    "\n",
    "# b. Calculate average sales and average rank for each product\n",
    "average_sales = df_store.groupby('Product')['Sales'].mean()\n",
    "average_ranks = df_store.groupby('Product')['Sales_Rank'].mean()\n",
    "\n",
    "# c. Seasonality analysis for categories\n",
    "category_sales = df_store.groupby(['Category', 'Month'])['Sales'].mean().unstack()\n",
    "\n",
    "print(\"\\nSales Ranking for Products:\")\n",
    "print(df_store[['Product', 'Month', 'Sales', 'Sales_Rank']])\n",
    "print(\"\\nAverage Sales and Average Rank for Each Product:\")\n",
    "print(pd.DataFrame({'Average Sales': average_sales, 'Average Rank': average_ranks}))\n",
    "print(\"\\nSeasonality Analysis for Product Categories:\")\n",
    "print(category_sales)\n"
   ],
   "id": "b47c75b67cf130db",
   "outputs": [
    {
     "name": "stdout",
     "output_type": "stream",
     "text": [
      "\n",
      "Sales Ranking for Products:\n",
      "     Product     Month  Sales  Sales_Rank\n",
      "0  Product A   January   1200         1.0\n",
      "1  Product B   January    850         3.0\n",
      "2  Product C   January    950         2.0\n",
      "3  Product A  February   1100         1.0\n",
      "4  Product B  February    920         3.0\n",
      "5  Product C  February    970         2.0\n",
      "6  Product A     March   1300         1.0\n",
      "7  Product B     March    900         3.0\n",
      "8  Product C     March    990         2.0\n",
      "\n",
      "Average Sales and Average Rank for Each Product:\n",
      "           Average Sales  Average Rank\n",
      "Product                               \n",
      "Product A         1200.0           1.0\n",
      "Product B          890.0           3.0\n",
      "Product C          970.0           2.0\n",
      "\n",
      "Seasonality Analysis for Product Categories:\n",
      "Month        February  January   March\n",
      "Category                              \n",
      "Electronics    1100.0   1200.0  1300.0\n",
      "Health          970.0    950.0   990.0\n",
      "Home            920.0    850.0   900.0\n"
     ]
    }
   ],
   "execution_count": 3
  }
 ],
 "metadata": {
  "kernelspec": {
   "display_name": "Python 3",
   "language": "python",
   "name": "python3"
  },
  "language_info": {
   "codemirror_mode": {
    "name": "ipython",
    "version": 2
   },
   "file_extension": ".py",
   "mimetype": "text/x-python",
   "name": "python",
   "nbconvert_exporter": "python",
   "pygments_lexer": "ipython2",
   "version": "2.7.6"
  }
 },
 "nbformat": 4,
 "nbformat_minor": 5
}
