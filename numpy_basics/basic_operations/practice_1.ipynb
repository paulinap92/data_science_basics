{
 "cells": [
  {
   "metadata": {
    "ExecuteTime": {
     "end_time": "2025-01-15T08:26:33.717042Z",
     "start_time": "2025-01-15T08:26:33.440509Z"
    }
   },
   "cell_type": "code",
   "source": "import numpy as np",
   "id": "4ca8ef1f475fdcf6",
   "outputs": [],
   "execution_count": 1
  },
  {
   "metadata": {},
   "cell_type": "markdown",
   "source": [
    "### Task 1  \n",
    " Load an array from the file `data1.csv` into an ndarray object. Multiply all its elements by a specified value and save the result to the file `out1.csv`. Ensure the code is flexible and follows a proper application structure.\n",
    "\n"
   ],
   "id": "dace0575ea81ee5d"
  },
  {
   "metadata": {
    "ExecuteTime": {
     "end_time": "2025-01-15T08:26:33.751977Z",
     "start_time": "2025-01-15T08:26:33.730064Z"
    }
   },
   "cell_type": "code",
   "source": [
    "def multiply_and_save_matrix(input_file: str, output_file: str, multiplier: int) -> np.array:\n",
    "\n",
    "    # Load data\n",
    "    data_csv = np.loadtxt(input_file, delimiter=',')\n",
    "\n",
    "    # Multiply array by constant\n",
    "    data_output = data_csv * multiplier\n",
    "\n",
    "    # Save result\n",
    "    np.savetxt(output_file, data_output, delimiter=',')\n",
    "\n",
    "    return data_output\n",
    "\n",
    "result = multiply_and_save_matrix('data/data1.csv', 'data/out1.csv', 5)\n",
    "\n",
    "print(result)"
   ],
   "id": "3a1deff963ba4c3f",
   "outputs": [
    {
     "name": "stdout",
     "output_type": "stream",
     "text": [
      "[[ 5.  5.  5.]\n",
      " [10. 10. 10.]\n",
      " [15. 15. 15.]\n",
      " [20. 20. 20.]\n",
      " [25. 25. 25.]\n",
      " [30. 30. 30.]]\n"
     ]
    }
   ],
   "execution_count": 2
  },
  {
   "metadata": {},
   "cell_type": "markdown",
   "source": [
    "### Task 2\n",
    "\n",
    "Load a 2D array from the file `data1.csv` into an `ndarray` object. In the file `data2.csv`, the first row contains two natural numbers, and the second row contains another two natural numbers. These represent the ranges of rows (first row) and columns (second row). Extract the elements of the array based on the specified ranges and save the resulting new array to the file `out1.csv`.\n",
    "\n",
    "\n"
   ],
   "id": "45f0f2465f8ca8e2"
  },
  {
   "metadata": {
    "ExecuteTime": {
     "end_time": "2025-01-15T08:26:34.591285Z",
     "start_time": "2025-01-15T08:26:34.569037Z"
    }
   },
   "cell_type": "code",
   "source": [
    "def process_matrix(input_file: str, input_file_2: str, output_file: str) -> np.array:\n",
    "\n",
    "    # Data loading\n",
    "    data = np.loadtxt(input_file, delimiter=',')\n",
    "\n",
    "    # Range data loading\n",
    "    range_array = np.genfromtxt(input_file_2, delimiter=',', dtype=int)\n",
    "\n",
    "    # Ranges\n",
    "    row_start, row_end = range_array[0]\n",
    "    col_start, col_end = range_array[1]\n",
    "\n",
    "    # Define new matrix based on input with ranges\n",
    "    data_to_save = data[row_start:row_end+1, col_start:col_end+1]\n",
    "\n",
    "    # Data to save\n",
    "    np.savetxt(output_file, data_to_save, delimiter=',')\n",
    "\n",
    "    return data_to_save\n",
    "\n",
    "result = process_matrix('data/data1.csv', 'data/data2.csv', 'data/out2.csv')\n",
    "\n",
    "print(result)"
   ],
   "id": "82b9349f8dd1384b",
   "outputs": [
    {
     "name": "stdout",
     "output_type": "stream",
     "text": [
      "[[1. 1.]\n",
      " [2. 2.]]\n"
     ]
    }
   ],
   "execution_count": 3
  },
  {
   "metadata": {},
   "cell_type": "markdown",
   "source": [
    "### TASK 3\n",
    "Load two arrays of floating-point numbers from the files `data1.csv` and `data2.csv`. If the arrays have the same dimensions, allow the user to select the type of operation they want to perform on them (addition, subtraction, multiplication). Save the result of the operation to a file with a name specified by the user. Ensure the code is flexible and clear.\n",
    "\n"
   ],
   "id": "31fff3dae15608e1"
  },
  {
   "metadata": {
    "ExecuteTime": {
     "end_time": "2025-01-15T08:26:38.120463Z",
     "start_time": "2025-01-15T08:26:34.642105Z"
    }
   },
   "cell_type": "code",
   "source": [
    "def process_files_and_perform_operation(input_file_1: str, input_file_2: str, output_file: str) -> np.array:\n",
    "    try:\n",
    "        # Data lading\n",
    "        array1 = np.loadtxt(input_file_1, delimiter=',')\n",
    "        array2 = np.loadtxt(input_file_2, delimiter=',')\n",
    "\n",
    "        # Size check\n",
    "        if array1.shape != array2.shape:\n",
    "            print(\"Arrays should have the same shape.\")\n",
    "            return\n",
    "\n",
    "        operation = input(\"Choose operation (add, subtract, multiply, divide: \").lower()\n",
    "\n",
    "        # Choose operation\n",
    "        match operation:\n",
    "            case 'add':\n",
    "                result = np.add(array1, array2)\n",
    "            case 'subtract':\n",
    "                result = np.subtract(array1, array2)\n",
    "            case 'multiply':\n",
    "                result = np.multiply(array1, array2)\n",
    "            case 'divide':\n",
    "                result = np.divide(array1, array2)\n",
    "            case _:\n",
    "                print(\"Operation unknown\")\n",
    "                return\n",
    "\n",
    "        # Save result\n",
    "        np.savetxt(output_file, result, delimiter=',')\n",
    "        print(f\"Result of'{operation}' saved to {output_file}\")\n",
    "    \n",
    "    except Exception as e:\n",
    "        print(f\"Error: {e}\")\n",
    "\n",
    "    return result\n",
    "\n",
    "# Main logic\n",
    "file1 = 'data/data31.csv'\n",
    "file2 = 'data/data32.csv'\n",
    "output_file = 'data/out3.csv'\n",
    "\n",
    "result = process_files_and_perform_operation(file1, file2, output_file)\n",
    "print(result)"
   ],
   "id": "5e2d5eb5a6b7c79e",
   "outputs": [
    {
     "name": "stdout",
     "output_type": "stream",
     "text": [
      "Result of'add' saved to data/out3.csv\n",
      "[[ 3.1  4.2 11.3]\n",
      " [ 7.4  6.5  8.6]\n",
      " [ 9.2 15.8 19.9]]\n"
     ]
    }
   ],
   "execution_count": 4
  }
 ],
 "metadata": {
  "kernelspec": {
   "display_name": "Python 3",
   "language": "python",
   "name": "python3"
  },
  "language_info": {
   "codemirror_mode": {
    "name": "ipython",
    "version": 2
   },
   "file_extension": ".py",
   "mimetype": "text/x-python",
   "name": "python",
   "nbconvert_exporter": "python",
   "pygments_lexer": "ipython2",
   "version": "2.7.6"
  }
 },
 "nbformat": 4,
 "nbformat_minor": 5
}
