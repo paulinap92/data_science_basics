{
 "cells": [
  {
   "metadata": {
    "ExecuteTime": {
     "end_time": "2025-01-15T08:26:20.089696Z",
     "start_time": "2025-01-15T08:26:20.084388Z"
    }
   },
   "cell_type": "code",
   "source": "import numpy as np",
   "id": "a6f49f63d259bc2d",
   "outputs": [],
   "execution_count": 10
  },
  {
   "metadata": {},
   "cell_type": "markdown",
   "source": [
    "### Task 1\n",
    "1. Load two arrays from the files `data1.csv` and `data2.csv` (assuming they have the same size).  \n",
    "2. Perform addition, multiplication, and division of these arrays element-wise.  \n",
    "3. For all elements in the arrays that fall outside the range \\([a, b]\\), set them to zero.  \n",
    "4. Divide the remaining elements by the average of the array elements.  \n",
    "5. Save the results into three separate files:\n",
    "   - `out1.csv` for addition,\n",
    "   - `out2.csv` for multiplication,\n",
    "   - `out3.csv` for division.\n"
   ],
   "id": "c95d5e4d5d282f84"
  },
  {
   "metadata": {
    "ExecuteTime": {
     "end_time": "2025-01-15T08:26:20.140874Z",
     "start_time": "2025-01-15T08:26:20.119703Z"
    }
   },
   "cell_type": "code",
   "source": [
    "def zero_and_normalize(array: np.ndarray, a: float, b: float) -> np.ndarray:\n",
    "     # Set elements outside the range [a, b] to zero\n",
    "    array[(array < a) | (array > b)] = 0\n",
    "\n",
    "    # Extract non-zero elements and calculate their mean\n",
    "    non_zero_elements = array[array != 0]\n",
    "    mean_value = np.mean(non_zero_elements) if len(non_zero_elements) > 0 else 0\n",
    "\n",
    "    # Normalize non-zero elements by dividing them by the mean\n",
    "    if mean_value != 0:\n",
    "        array[array != 0] /= mean_value\n",
    "\n",
    "    return array\n",
    "\n",
    "def process_matrix(input_file_1: str, input_file_2: str, output_file_1: str, output_file_2: str, output_file_3: str, ab_range: list) -> None:\n",
    "    try:\n",
    "        # Load data from the input CSV files\n",
    "        array1 = np.loadtxt(input_file_1, delimiter=',')\n",
    "        array2 = np.loadtxt(input_file_2, delimiter=',')\n",
    "\n",
    "        # Ensure both arrays have the same dimensions\n",
    "        if array1.shape != array2.shape:\n",
    "            print(\"Arrays should have the same shape\")\n",
    "            return\n",
    "\n",
    "        # Perform element-wise addition, multiplication, and division\n",
    "        result_add = array1 + array2\n",
    "        result_multiply = array1 * array2\n",
    "        result_divide = array1 / array2\n",
    "\n",
    "        # Display the intermediate results\n",
    "        print('---INPUT---')\n",
    "        print(result_add)\n",
    "        print(result_multiply)\n",
    "        print(result_divide)\n",
    "\n",
    "        # Unpack the range values\n",
    "        a, b = ab_range\n",
    "\n",
    "        # Apply zeroing and normalization to the results\n",
    "        result_add_norm = zero_and_normalize(result_add, a, b)\n",
    "        result_multiply_norm = zero_and_normalize(result_multiply, a, b)\n",
    "        result_divide_norm = zero_and_normalize(result_divide, a, b)\n",
    "\n",
    "        # Display the final normalized results\n",
    "        print('---OUTPUT---')\n",
    "        print(result_add_norm)\n",
    "        print(result_multiply_norm)\n",
    "        print(result_divide_norm)\n",
    "\n",
    "        # Save the processed results to output files\n",
    "        np.savetxt(output_file_1, result_add, delimiter=',')\n",
    "        np.savetxt(output_file_2, result_multiply, delimiter=',')\n",
    "        np.savetxt(output_file_3, result_divide, delimiter=',')\n",
    "\n",
    "    except Exception as e:\n",
    "        # Handle and display any exceptions that occur\n",
    "        print(f\"Error: {e}\")\n",
    "\n",
    "\n",
    "# Example usage of the process_matrix function\n",
    "process_matrix('data2/data1.csv', 'data2/data2.csv', 'data2/out1.txt', 'data2/out2.txt', 'data2/out3.txt', [1, 10])\n"
   ],
   "id": "f1becdccbac86424",
   "outputs": [
    {
     "name": "stdout",
     "output_type": "stream",
     "text": [
      "---INPUT---\n",
      "[[ 12.   14.   16. ]\n",
      " [  4.5   6.    8. ]\n",
      " [ 11.   16.  109. ]]\n",
      "[[ 11.  24.  39.]\n",
      " [  2.   5.  12.]\n",
      " [ 28.  64. 900.]]\n",
      "[[0.09090909 0.16666667 0.23076923]\n",
      " [8.         5.         3.        ]\n",
      " [1.75       1.         0.09      ]]\n",
      "---OUTPUT---\n",
      "[[0.         0.         0.        ]\n",
      " [0.72972973 0.97297297 1.2972973 ]\n",
      " [0.         0.         0.        ]]\n",
      "[[0.         0.         0.        ]\n",
      " [0.57142857 1.42857143 0.        ]\n",
      " [0.         0.         0.        ]]\n",
      "[[0.         0.         0.        ]\n",
      " [2.13333333 1.33333333 0.8       ]\n",
      " [0.46666667 0.26666667 0.        ]]\n"
     ]
    }
   ],
   "execution_count": 11
  },
  {
   "metadata": {},
   "cell_type": "markdown",
   "source": [
    "### Task 2\n",
    "1. Load data from the file `data1.csv`, which contains a two-dimensional array of floating-point numbers.  \n",
    "2. Select elements from specified columns that are greater than a given value.  \n",
    "3. The resulting 2D array should contain numbers that serve as inputs to the function \\( f(x) = 2 \\cdot x + 4 \\).  \n",
    "4. Compute \\( f(x) \\) for each element of the filtered array.  \n",
    "5. Save the resulting matrix of \\( f(x) \\) values to the file `res1.csv`."
   ],
   "id": "f963f61ea7b52c5c"
  },
  {
   "metadata": {
    "ExecuteTime": {
     "end_time": "2025-01-15T08:26:20.161546Z",
     "start_time": "2025-01-15T08:26:20.152351Z"
    }
   },
   "cell_type": "code",
   "source": [
    "def process_data(input_file: str, output_file: str, columns: list, threshold: int) -> None:\n",
    "    # Load data from the input CSV file\n",
    "    array1 = np.loadtxt(input_file, delimiter=',')\n",
    "\n",
    "    # Extract the specified columns from the array\n",
    "    elements = array1[:, columns]\n",
    "\n",
    "    # Filter elements that are greater than the specified threshold\n",
    "    filtered_elements = elements[elements > threshold]\n",
    "\n",
    "    # Print the original elements and the filtered elements for inspection\n",
    "    print(elements)\n",
    "    print(filtered_elements)\n",
    "\n",
    "    # Apply the linear transformation f(x) = 2 * x + 4 to the filtered elements\n",
    "    new_array = 2 * filtered_elements + 4\n",
    "\n",
    "    # Save the resulting array to the output file in CSV format\n",
    "    np.savetxt(output_file, new_array, delimiter=',', fmt='%f')\n",
    "\n",
    "# Example usage of the process_data function\n",
    "process_data('data2/data3.csv', 'data2/out4.csv', [1, 3], 5)"
   ],
   "id": "8ef01173fc2d5135",
   "outputs": [
    {
     "name": "stdout",
     "output_type": "stream",
     "text": [
      "[[2.2 4.4]\n",
      " [4.4 6.5]\n",
      " [6.6 2.2]\n",
      " [8.8 5.5]\n",
      " [1.  2.2]]\n",
      "[6.5 6.6 8.8 5.5]\n"
     ]
    }
   ],
   "execution_count": 12
  },
  {
   "metadata": {},
   "cell_type": "markdown",
   "source": [
    "### Task 3\n",
    "1. Assume there is an arbitrary number of `.csv` files named `data1.csv`, `data2.csv`, `data3.csv`, etc.  \n",
    "2. Combine these files into a single large matrix, appending them in order. For example:  \n",
    "\n",
    "   - `data1.csv`:\n",
    "     \n",
    "     \\begin{bmatrix}\n",
    "     1 & 2 \\\\\n",
    "     3 & 4\n",
    "     \\end{bmatrix}\n",
    "     \n",
    "     \n",
    "   - `data2.csv`:\n",
    "     \n",
    "     \\begin{bmatrix}\n",
    "     5 & 6 \\\\\n",
    "     7 & 8\n",
    "     \\end{bmatrix}\n",
    "     \n",
    "\n",
    "   Combined matrix:\n",
    "   \n",
    "   \\begin{bmatrix}\n",
    "   1 & 2 \\\\\n",
    "   3 & 4 \\\\\n",
    "   5 & 6 \\\\\n",
    "   7 & 8\n",
    "   \\end{bmatrix}\n",
    "   \n",
    "\n",
    "3. Identify rows in this combined matrix that have an average greater than a specified value.  \n",
    "4. Save these rows as a new array to the file `out1.csv`."
   ],
   "id": "cdbfac6c1f4150aa"
  },
  {
   "metadata": {
    "ExecuteTime": {
     "end_time": "2025-01-15T08:26:20.201182Z",
     "start_time": "2025-01-15T08:26:20.186860Z"
    }
   },
   "cell_type": "code",
   "source": [
    "import numpy as np\n",
    "import glob\n",
    "\n",
    "def process_csv_files(threshold):\n",
    "    # Retrieve all CSV files named data1.csv, data2.csv, etc., in the data2 directory\n",
    "    file_list = sorted(glob.glob(\"data2/datax*.csv\"))\n",
    "\n",
    "    # List to store data from all CSV files\n",
    "    data = []\n",
    "\n",
    "    # Load data from each file and append it to the list\n",
    "    for file in file_list:\n",
    "        array = np.loadtxt(file, delimiter=\",\")\n",
    "        data.append(array)\n",
    "\n",
    "    # Combine all the data into a single matrix (vertically stack arrays)\n",
    "    combined_data = np.vstack(data)\n",
    "\n",
    "    # Compute the mean of each row\n",
    "    row_means = np.mean(combined_data, axis=1)\n",
    "\n",
    "    # Filter the rows where the mean is greater than the threshold\n",
    "    filtered_rows = combined_data[row_means > threshold]\n",
    "\n",
    "    # Save the filtered rows to a new file (out1.csv)\n",
    "    np.savetxt(\"data2/out5.csv\", filtered_rows, delimiter=\",\", fmt=\"%d\")\n",
    "    print(combined_data)\n",
    "    print('After filtering')\n",
    "    print(filtered_rows)\n",
    "\n",
    "# Example usage of the process_csv_files function\n",
    "process_csv_files(threshold=4)\n"
   ],
   "id": "ac672f72d1f09198",
   "outputs": [
    {
     "name": "stdout",
     "output_type": "stream",
     "text": [
      "[[1. 2. 3.]\n",
      " [4. 5. 6.]\n",
      " [7. 8. 9.]\n",
      " [1. 2. 3.]\n",
      " [0. 0. 0.]\n",
      " [1. 2. 3.]\n",
      " [4. 5. 6.]\n",
      " [7. 8. 9.]\n",
      " [1. 2. 3.]\n",
      " [0. 0. 0.]\n",
      " [3. 2. 1.]]\n",
      "After filtering\n",
      "[[4. 5. 6.]\n",
      " [7. 8. 9.]\n",
      " [4. 5. 6.]\n",
      " [7. 8. 9.]]\n"
     ]
    }
   ],
   "execution_count": 13
  }
 ],
 "metadata": {
  "kernelspec": {
   "display_name": "Python 3",
   "language": "python",
   "name": "python3"
  },
  "language_info": {
   "codemirror_mode": {
    "name": "ipython",
    "version": 2
   },
   "file_extension": ".py",
   "mimetype": "text/x-python",
   "name": "python",
   "nbconvert_exporter": "python",
   "pygments_lexer": "ipython2",
   "version": "2.7.6"
  }
 },
 "nbformat": 4,
 "nbformat_minor": 5
}
