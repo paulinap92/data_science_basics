{
 "cells": [
  {
   "metadata": {},
   "cell_type": "markdown",
   "source": [
    "#### Task 1. Parallel Resistance Calculation\n",
    "\n",
    "Calculate the equivalent resistance of resistors connected in parallel, using the formula:\n",
    "$1/Rz = 1/R1 + 1/R2 + ... + 1/Rn$\n"
   ],
   "id": "237fa13e5a532dc7"
  },
  {
   "metadata": {
    "ExecuteTime": {
     "end_time": "2025-02-02T09:45:02.952764Z",
     "start_time": "2025-02-02T09:45:02.486507Z"
    }
   },
   "cell_type": "code",
   "source": [
    "import numpy as np\n",
    "\n",
    "# Example array of resistor values\n",
    "resistances = np.array([10, 20, 30])  # Resistance values in ohms\n",
    "\n",
    "# Calculate the reciprocal of the equivalent resistance\n",
    "reciprocal_rz = np.sum(1 / resistances)\n",
    "\n",
    "# Calculate the equivalent resistance\n",
    "rz = 1 / reciprocal_rz\n",
    "print(f\"Equivalent Resistance: {rz} ohms\")"
   ],
   "id": "df07058a8928d55a",
   "outputs": [
    {
     "name": "stdout",
     "output_type": "stream",
     "text": [
      "Equivalent Resistance: 5.454545454545454 ohms\n"
     ]
    }
   ],
   "execution_count": 1
  },
  {
   "metadata": {},
   "cell_type": "markdown",
   "source": [
    "#### Task 2\n",
    "1. Take data about points and angles directly from arrays\n",
    "2. Compute new points obtained by rotating the original points by each angle\n",
    "3. For each rotation, calculate the total distance of all points from the origin.\n",
    "4. Determine which rotated set of points has the largest total distance and save this set as the result."
   ],
   "id": "c87bbb8cd9ec8b31"
  },
  {
   "metadata": {
    "ExecuteTime": {
     "end_time": "2025-02-02T09:46:58.517456Z",
     "start_time": "2025-02-02T09:46:58.485743Z"
    }
   },
   "cell_type": "code",
   "source": [
    "my_points = np.array([[1,0], [0, 1], [1, 6]])\n",
    "my_angles = np.array([10,20,60,90])\n",
    "\n",
    "# Create rotation matrix, input in degrees\n",
    "def create_rotation_matrix_2D(angle_degrees: float) -> np.ndarray:\n",
    "  angle_radians = np.radians(angle_degrees)\n",
    "  cos_angle = np.cos(angle_radians)\n",
    "  sin_angle = np.sin(angle_radians)\n",
    "  return np.array([\n",
    "      [cos_angle, -sin_angle],\n",
    "      [sin_angle, cos_angle]\n",
    "  ])\n",
    "\n",
    "# save rotated points, rounding to 0\n",
    "def rotate_points_2D(points: np.array, angle_degrees: float) -> np.array:\n",
    "  rotation_matrix = create_rotation_matrix_2D(angle_degrees)\n",
    "  return np.round(np.dot(points, rotation_matrix.T), decimals=6)\n",
    "\n",
    "# calculate distance from (0,0)\n",
    "def total_distance_from_origin(points):\n",
    "    return np.sum(np.linalg.norm(points, axis=1))\n",
    "\n",
    "# Main function, finding the best rotation\n",
    "def find_best_rotation(points, angles):\n",
    "    max_distance = -np.inf\n",
    "    best_rotation_points = None\n",
    "\n",
    "    for angle in angles:\n",
    "        print('rotated points:')\n",
    "        rotated_points = rotate_points_2D(points, angle)\n",
    "        print(rotated_points)\n",
    "        print('distance from origin:')\n",
    "        distance = total_distance_from_origin(rotated_points)\n",
    "        print(distance)\n",
    "        if distance > max_distance:\n",
    "            max_distance = distance\n",
    "            best_rotation_points = rotated_points\n",
    "\n",
    "    return best_rotation_points\n",
    "\n",
    "\n",
    "best_points = find_best_rotation(my_points, my_angles)\n",
    "\n",
    "print(\"Best points:\")\n",
    "print(best_points)\n"
   ],
   "id": "1e983481951668f7",
   "outputs": [
    {
     "name": "stdout",
     "output_type": "stream",
     "text": [
      "rotated points\n",
      "[[ 0.984808  0.173648]\n",
      " [-0.173648  0.984808]\n",
      " [-0.057081  6.082495]]\n",
      "distance from origin\n",
      "8.08276325637548\n",
      "rotated points\n",
      "[[ 0.939693  0.34202 ]\n",
      " [-0.34202   0.939693]\n",
      " [-1.112428  5.980176]]\n",
      "distance from origin\n",
      "8.082763230940948\n",
      "rotated points\n",
      "[[ 0.5       0.866025]\n",
      " [-0.866025  0.5     ]\n",
      " [-4.696152  3.866025]]\n",
      "distance from origin\n",
      "8.082761247941985\n",
      "rotated points\n",
      "[[ 0.  1.]\n",
      " [-1.  0.]\n",
      " [-6.  1.]]\n",
      "distance from origin\n",
      "8.082762530298218\n",
      "Best points:\n",
      "[[ 0.984808  0.173648]\n",
      " [-0.173648  0.984808]\n",
      " [-0.057081  6.082495]]\n"
     ]
    }
   ],
   "execution_count": 3
  },
  {
   "metadata": {},
   "cell_type": "code",
   "outputs": [],
   "execution_count": null,
   "source": "",
   "id": "ff446f886f8ede3d"
  }
 ],
 "metadata": {
  "kernelspec": {
   "display_name": "Python 3",
   "language": "python",
   "name": "python3"
  },
  "language_info": {
   "codemirror_mode": {
    "name": "ipython",
    "version": 2
   },
   "file_extension": ".py",
   "mimetype": "text/x-python",
   "name": "python",
   "nbconvert_exporter": "python",
   "pygments_lexer": "ipython2",
   "version": "2.7.6"
  }
 },
 "nbformat": 4,
 "nbformat_minor": 5
}
