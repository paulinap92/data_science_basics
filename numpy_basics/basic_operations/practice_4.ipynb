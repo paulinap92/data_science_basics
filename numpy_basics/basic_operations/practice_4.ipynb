{
 "cells": [
  {
   "metadata": {},
   "cell_type": "markdown",
   "source": [
    "#### 1. Task Description:\n",
    "\n",
    "1. You have two arrays named `points1` and `points2`. Each array contains the same number of rows, and each row represents a point in 3D space. For example, the structure of an array could be:\n",
    "   ```\n",
    "   [[1, 2, 3],\n",
    "    [4, 5, 6],\n",
    "    [6, 7, 8]]\n",
    "   ```\n",
    "\n",
    "2. Compare the points located in the same row of both arrays. For each pair of points:\n",
    "   - If the distance of the point from the first array to the origin `(0, 0, 0)` is greater than the distance of the corresponding point from the second array, write the coordinates of the point from the first array to the result.\n",
    "   - Otherwise, write the coordinates of the point that is the farthest from the origin among the two into the result.\n"
   ],
   "id": "3e936ab2f91b2be5"
  },
  {
   "metadata": {
    "ExecuteTime": {
     "end_time": "2025-02-03T05:35:11.139139Z",
     "start_time": "2025-02-03T05:35:11.124775Z"
    }
   },
   "cell_type": "code",
   "source": [
    "import numpy as np\n",
    "points1 = np.array([[1,5,6],[4,5,6],[7,3,2]])\n",
    "points2 = np.array([[3,2,4],[3,2,3],[6,4,5]])\n",
    "\n",
    "def distance_from_origin_3d(points: np.ndarray) -> np.ndarray:\n",
    "    return np.sqrt(np.sum(points**2, axis=1))\n",
    "\n",
    "p1 = distance_from_origin_3d(points1)\n",
    "p2 = distance_from_origin_3d(points2)\n",
    "\n",
    "print('Dictances from the origin for set 1 of points:')\n",
    "print(p1)\n",
    "print('Dictances from the origin for set 2 of points:')\n",
    "print(p2)\n",
    "\n",
    "res = np.where(p1 > p2, p1, p2)\n",
    "print('Result:')\n",
    "print(res)"
   ],
   "id": "ea33c76467daec46",
   "outputs": [
    {
     "name": "stdout",
     "output_type": "stream",
     "text": [
      "Dictances from the origin for set 1 of points:\n",
      "[7.87400787 8.77496439 7.87400787]\n",
      "Dictances from the origin for set 2 of points:\n",
      "[5.38516481 4.69041576 8.77496439]\n",
      "Result:\n",
      "[7.87400787 8.77496439 8.77496439]\n"
     ]
    }
   ],
   "execution_count": 10
  },
  {
   "metadata": {},
   "cell_type": "markdown",
   "source": [
    "#### 2.Task Description:\n",
    "\n",
    "1. You have two arrays named `points` and `circles`. The `points` array contains the coordinates of points in 2D space, where each row represents a point with `x` and `y` coordinates. For example:\n",
    "   ```\n",
    "   [[1, 2],\n",
    "    [3, 4],\n",
    "    [5, 6]]\n",
    "   ```\n",
    "\n",
    "   The `circles` array contains the coordinates of the circle centers and their radii. Each row represents a circle with `x`, `y`, and `radius`. For example:\n",
    "   ```\n",
    "   [[0, 0, 5],\n",
    "    [2, 3, 10]]\n",
    "   ```\n",
    "\n",
    "2. For each point in the `points` array, determine if it lies inside any circle from the `circles` array. A point lies inside a circle if the distance from the point to the circle's center is less than or equal to the circle's radius.\n",
    "\n",
    "3. Among the points that satisfy this condition, write to the result the point closest to the center of the circle in which it resides.\n",
    "\n"
   ],
   "id": "2c8db41172b20e02"
  },
  {
   "metadata": {
    "ExecuteTime": {
     "end_time": "2025-02-03T05:35:11.185851Z",
     "start_time": "2025-02-03T05:35:11.171929Z"
    }
   },
   "cell_type": "code",
   "source": [
    "points = np.array([[1, 2],\n",
    "                   [3, 4],\n",
    "                   [5, 6]])\n",
    "\n",
    "circles = np.array([[0, 0, 5],\n",
    "                    [2, 3, 10]])\n",
    "\n",
    "# Initialize result list to store the closest point for each circle\n",
    "closest_points_dict = {}\n",
    "\n",
    "# Iterate through each circle\n",
    "for circle in circles:\n",
    "    circle_x, circle_y, radius = circle\n",
    "\n",
    "    # Compute distances of all points from the circle's center\n",
    "    distances = np.sqrt((points[:, 0] - circle_x) ** 2 + (points[:, 1] - circle_y) ** 2)\n",
    "    print('Distances from the circle center:')\n",
    "    print(distances)\n",
    "    print('Radius:')\n",
    "    print(radius)\n",
    "    inside_indices = np.where(distances <= radius)[0]\n",
    "    print('Points inside the circle:')\n",
    "    print(inside_indices)\n",
    "    # Filter points that lie inside the circle\n",
    "    if len(inside_indices) > 0:\n",
    "        min_value = np.min(distances[inside_indices])\n",
    "        closest_indices = inside_indices[np.where(distances[inside_indices] == min_value)]\n",
    "        print(closest_indices)\n",
    "\n",
    "        # Add the closest point to the result\n",
    "        closest_points_dict[(circle_x, circle_y, radius)] = points[closest_indices]\n",
    "\n",
    "for circle, closest_pts in closest_points_dict.items():\n",
    "    print(f\"Koło (x={circle[0]}, y={circle[1]}, r={circle[2]}): {closest_pts}\")"
   ],
   "id": "6d7be525e04b9cfd",
   "outputs": [
    {
     "name": "stdout",
     "output_type": "stream",
     "text": [
      "Distances from the circle center:\n",
      "[2.23606798 5.         7.81024968]\n",
      "Radius:\n",
      "5\n",
      "Points inside the circle:\n",
      "[0 1]\n",
      "[0]\n",
      "Distances from the circle center:\n",
      "[1.41421356 1.41421356 4.24264069]\n",
      "Radius:\n",
      "10\n",
      "Points inside the circle:\n",
      "[0 1 2]\n",
      "[0 1]\n",
      "Koło (x=0, y=0, r=5): [[1 2]]\n",
      "Koło (x=2, y=3, r=10): [[1 2]\n",
      " [3 4]]\n"
     ]
    }
   ],
   "execution_count": 11
  }
 ],
 "metadata": {
  "kernelspec": {
   "display_name": "Python 3",
   "language": "python",
   "name": "python3"
  },
  "language_info": {
   "codemirror_mode": {
    "name": "ipython",
    "version": 2
   },
   "file_extension": ".py",
   "mimetype": "text/x-python",
   "name": "python",
   "nbconvert_exporter": "python",
   "pygments_lexer": "ipython2",
   "version": "2.7.6"
  }
 },
 "nbformat": 4,
 "nbformat_minor": 5
}
